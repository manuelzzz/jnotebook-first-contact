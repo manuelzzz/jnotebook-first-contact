{
 "cells": [
  {
   "cell_type": "code",
   "execution_count": 1,
   "id": "f15a5b8e-f1a2-453d-badf-ef73c028f097",
   "metadata": {},
   "outputs": [
    {
     "name": "stdout",
     "output_type": "stream",
     "text": [
      "Hello World!\n"
     ]
    }
   ],
   "source": [
    "print(\"Hello World!\")"
   ]
  },
  {
   "cell_type": "code",
   "execution_count": 2,
   "id": "e516ddc6-68cf-487c-a839-0962f440d0b1",
   "metadata": {},
   "outputs": [],
   "source": [
    "import time\n",
    "time.sleep(3)"
   ]
  },
  {
   "cell_type": "code",
   "execution_count": 8,
   "id": "2066c042-773a-46c0-b5e4-87fae3ebd46c",
   "metadata": {},
   "outputs": [
    {
     "name": "stdout",
     "output_type": "stream",
     "text": [
      "4 ao quadrado é 16\n"
     ]
    }
   ],
   "source": [
    "import numpy as npy\n",
    "\n",
    "def square(x):\n",
    "    return x * x\n",
    "\n",
    "x = npy.random.randint(1,10)\n",
    "y = square(x)\n",
    "print('%d ao quadrado é %d' % (x, y))"
   ]
  },
  {
   "cell_type": "code",
   "execution_count": null,
   "id": "b22e9a1f-5e48-42f1-9f65-926e0840411f",
   "metadata": {},
   "outputs": [],
   "source": []
  }
 ],
 "metadata": {
  "kernelspec": {
   "display_name": "Python 3 (ipykernel)",
   "language": "python",
   "name": "python3"
  },
  "language_info": {
   "codemirror_mode": {
    "name": "ipython",
    "version": 3
   },
   "file_extension": ".py",
   "mimetype": "text/x-python",
   "name": "python",
   "nbconvert_exporter": "python",
   "pygments_lexer": "ipython3",
   "version": "3.10.12"
  }
 },
 "nbformat": 4,
 "nbformat_minor": 5
}
